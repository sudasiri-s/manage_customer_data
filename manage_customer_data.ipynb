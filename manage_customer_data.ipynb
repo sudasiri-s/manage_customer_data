{
 "cells": [
  {
   "cell_type": "code",
   "execution_count": 4,
   "metadata": {},
   "outputs": [],
   "source": [
    "import sqlite3\n",
    "from datetime import datetime"
   ]
  },
  {
   "cell_type": "code",
   "execution_count": 17,
   "metadata": {},
   "outputs": [],
   "source": [
    "conn = sqlite3.connect(r'D:\\sqlite_data\\customer_db.db')\n",
    "cursor = conn.cursor()"
   ]
  },
  {
   "cell_type": "code",
   "execution_count": 3,
   "metadata": {},
   "outputs": [
    {
     "name": "stdout",
     "output_type": "stream",
     "text": [
      "2024-10-24 22:14:35\n"
     ]
    }
   ],
   "source": [
    "current_date = datetime.now().strftime('%Y-%m-%d %H:%M:%S')\n",
    "print(current_date)"
   ]
  },
  {
   "cell_type": "code",
   "execution_count": 15,
   "metadata": {},
   "outputs": [],
   "source": [
    "def manage_customer_data(status, first_name, last_name=None, email=None, phone=None, address=None, customer_id=None):\n",
    "    # connect to database\n",
    "    conn = sqlite3.connect(r'D:\\sqlite_data\\customer_db.db')\n",
    "    cursor = conn.cursor()\n",
    "\n",
    "    # get date for create/modify date\n",
    "    current_date = datetime.now().strftime('%Y-%m-%d %H:%M:%S')\n",
    "\n",
    "    try:\n",
    "        # status = insert\n",
    "        if status.lower() == 'insert' and customer_id is None:\n",
    "            cursor.execute('SELECT MAX(CustomerID) FROM customers')\n",
    "            result = cursor.fetchone()\n",
    "            new_customer_id = (result[0] or 0) + 1\n",
    "            cursor.execute('''\n",
    "                INSERT INTO customers (CustomerID, FirstName, LastName, Email, Phone, Address, CreateDate, ModifyDate)\n",
    "                VALUES (?, ?, ?, ?, ?, ?, ?, ?)            \n",
    "            ''', (new_customer_id, first_name, last_name, email, phone, address, current_date, current_date)\n",
    "            )\n",
    "            print(f'Customer {first_name} inserted successfully')\n",
    "\n",
    "        # status = update\n",
    "        elif status.lower() == 'update' and customer_id is not None:\n",
    "            cursor.execute('''\n",
    "                UPDATE customers \n",
    "                SET FirstName = ?, LastName = ?, Email = ?, Phone = ?, Address = ?, ModifyDate = ?\n",
    "                WHERE CustomerID = ?\n",
    "            ''', (first_name, last_name, email, phone, address, current_date, customer_id))\n",
    "            print(f'Customer ID {customer_id} updated successfully')\n",
    "        \n",
    "        # status = delete\n",
    "        elif status.lower() == 'delete' and customer_id is not None:\n",
    "            cursor.execute('''\n",
    "                DELETE FROM customers\n",
    "                WHERE CustomerID = ?\n",
    "            ''', (customer_id,))\n",
    "            print(f'Customer ID {customer_id} deleted successfully')\n",
    "\n",
    "        else:\n",
    "            print(f'Invalid status or missing customerID for update/delete')\n",
    "\n",
    "        # commit\n",
    "        conn.commit()\n",
    "\n",
    "    except sqlite3.Error as e:\n",
    "        print(f'An error occurred: {e}')\n",
    "        conn.rollback() # rollback in case error\n",
    "\n",
    "    finally:\n",
    "        # close connection\n",
    "        conn.close()\n"
   ]
  },
  {
   "cell_type": "code",
   "execution_count": 18,
   "metadata": {},
   "outputs": [
    {
     "name": "stdout",
     "output_type": "stream",
     "text": [
      "Customer John inserted successfully\n"
     ]
    }
   ],
   "source": [
    "# Insert a new customer\n",
    "manage_customer_data('insert', 'John', 'Smith', 'j.smith@email.com', '9999999999', 'Address1')"
   ]
  },
  {
   "cell_type": "code",
   "execution_count": 21,
   "metadata": {},
   "outputs": [
    {
     "name": "stdout",
     "output_type": "stream",
     "text": [
      "(1, 'John', 'Smith', 'j.smith@email.com', '9999999999', 'Address1', '2024-10-24 23:10:03', '2024-10-24 23:10:03')\n"
     ]
    }
   ],
   "source": [
    "cursor.execute('SELECT * FROM customers')\n",
    "results = cursor.fetchall()\n",
    "for row in results:\n",
    "    print(row)"
   ]
  },
  {
   "cell_type": "code",
   "execution_count": 22,
   "metadata": {},
   "outputs": [
    {
     "name": "stdout",
     "output_type": "stream",
     "text": [
      "Customer ID 1 updated successfully\n"
     ]
    }
   ],
   "source": [
    "# Update an existing\n",
    "manage_customer_data('update', 'John', 'Smith', 'j.smith@email.com', '9999999999', '456 Oak St', customer_id=1)"
   ]
  },
  {
   "cell_type": "code",
   "execution_count": 23,
   "metadata": {},
   "outputs": [
    {
     "name": "stdout",
     "output_type": "stream",
     "text": [
      "(1, 'John', 'Smith', 'j.smith@email.com', '9999999999', '456 Oak St', '2024-10-24 23:10:03', '2024-10-24 23:15:28')\n"
     ]
    }
   ],
   "source": [
    "cursor.execute('SELECT * FROM customers')\n",
    "results = cursor.fetchall()\n",
    "for row in results:\n",
    "    print(row)"
   ]
  },
  {
   "cell_type": "code",
   "execution_count": 16,
   "metadata": {},
   "outputs": [
    {
     "name": "stdout",
     "output_type": "stream",
     "text": [
      "Customer ID 1 deleted successfully\n"
     ]
    }
   ],
   "source": [
    "# Delete customer\n",
    "manage_customer_data('delete', None, customer_id=1)"
   ]
  }
 ],
 "metadata": {
  "kernelspec": {
   "display_name": "Python 3",
   "language": "python",
   "name": "python3"
  },
  "language_info": {
   "codemirror_mode": {
    "name": "ipython",
    "version": 3
   },
   "file_extension": ".py",
   "mimetype": "text/x-python",
   "name": "python",
   "nbconvert_exporter": "python",
   "pygments_lexer": "ipython3",
   "version": "3.12.1"
  }
 },
 "nbformat": 4,
 "nbformat_minor": 2
}
